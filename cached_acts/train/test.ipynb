{
 "cells": [
  {
   "cell_type": "code",
   "execution_count": 1,
   "metadata": {},
   "outputs": [
    {
     "name": "stderr",
     "output_type": "stream",
     "text": [
      "/home/noa/.miniconda/envs/hi/lib/python3.11/site-packages/torch/_utils.py:292: UserWarning: Sparse CSR tensor support is in beta state. If you miss a functionality in the sparse tensor support, please submit a feature request to https://github.com/pytorch/pytorch/issues. (Triggered internally at /opt/conda/conda-bld/pytorch_1699449201450/work/aten/src/ATen/SparseCsrTensorImpl.cpp:53.)\n",
      "  result = torch.sparse_compressed_tensor(\n"
     ]
    }
   ],
   "source": [
    "import torch\n",
    "\n",
    "\n",
    "acts = torch.load('mlp_F6000_clipped_sparse.pt')"
   ]
  },
  {
   "cell_type": "code",
   "execution_count": 2,
   "metadata": {},
   "outputs": [
    {
     "data": {
      "text/plain": [
       "tensor(crow_indices=tensor([      0,     124,     245,  ..., 1248571,\n",
       "                            1248693, 1248818]),\n",
       "       col_indices=tensor([  0,   1,   2,  ..., 125, 126, 127]),\n",
       "       values=tensor([230, 155, 142,  ...,  42,  33,  33]), size=(10000, 128),\n",
       "       nnz=1248818, dtype=torch.uint8, layout=torch.sparse_csr)"
      ]
     },
     "execution_count": 2,
     "metadata": {},
     "output_type": "execute_result"
    }
   ],
   "source": [
    "acts[0]"
   ]
  }
 ],
 "metadata": {
  "kernelspec": {
   "display_name": "hi",
   "language": "python",
   "name": "python3"
  },
  "language_info": {
   "codemirror_mode": {
    "name": "ipython",
    "version": 3
   },
   "file_extension": ".py",
   "mimetype": "text/x-python",
   "name": "python",
   "nbconvert_exporter": "python",
   "pygments_lexer": "ipython3",
   "version": "3.11.5"
  }
 },
 "nbformat": 4,
 "nbformat_minor": 2
}
