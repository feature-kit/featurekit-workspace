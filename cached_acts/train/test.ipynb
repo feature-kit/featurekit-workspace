{
 "cells": [
  {
   "cell_type": "code",
   "execution_count": 1,
   "metadata": {},
   "outputs": [],
   "source": [
    "import torch\n",
    "\n",
    "\n",
    "acts = torch.load('mlp_F6000_clipped.pt')"
   ]
  },
  {
   "cell_type": "code",
   "execution_count": 4,
   "metadata": {},
   "outputs": [],
   "source": [
    "import gc\n",
    "from tqdm import tqdm\n",
    "\n",
    "res = []\n",
    "\n",
    "for f_idx in tqdm(range(acts.shape[0])):\n",
    "    x = acts[f_idx].clone()\n",
    "    x = x.to_sparse_csr()\n",
    "    res.append(x)\n",
    "    gc.collect(); gc.collect()"
   ]
  },
  {
   "cell_type": "code",
   "execution_count": 12,
   "metadata": {},
   "outputs": [],
   "source": [
    "nonzero = acts[100].nonzero().shape"
   ]
  },
  {
   "cell_type": "code",
   "execution_count": 2,
   "metadata": {},
   "outputs": [
    {
     "name": "stderr",
     "output_type": "stream",
     "text": [
      "/tmp/ipykernel_77481/2937535437.py:2: UserWarning: Sparse CSR tensor support is in beta state. If you miss a functionality in the sparse tensor support, please submit a feature request to https://github.com/pytorch/pytorch/issues. (Triggered internally at /opt/conda/conda-bld/pytorch_1699449201450/work/aten/src/ATen/SparseCsrTensorImpl.cpp:53.)\n",
      "  x = x.to_sparse_csr()\n"
     ]
    },
    {
     "data": {
      "text/plain": [
       "tensor(crow_indices=tensor([    0,     6,     7,  ..., 20325, 20329, 20332]),\n",
       "       col_indices=tensor([17, 23, 25,  ..., 26, 86, 89]),\n",
       "       values=tensor([ 97,  53,  42,  ..., 119,  71,  13]), size=(10000, 128),\n",
       "       nnz=20332, dtype=torch.uint8, layout=torch.sparse_csr)"
      ]
     },
     "execution_count": 2,
     "metadata": {},
     "output_type": "execute_result"
    }
   ],
   "source": [
    "x = acts[100].clone()\n",
    "x = x.to_sparse_csr()\n",
    "x"
   ]
  },
  {
   "cell_type": "code",
   "execution_count": 3,
   "metadata": {},
   "outputs": [
    {
     "data": {
      "text/plain": [
       "tensor(crow_indices=tensor([    0,     6,     7,  ..., 20325, 20329, 20332]),\n",
       "       col_indices=tensor([17, 23, 25,  ..., 26, 86, 89]),\n",
       "       values=tensor([ 97,  53,  42,  ..., 119,  71,  13]), size=(10000, 128),\n",
       "       nnz=20332, dtype=torch.uint8, layout=torch.sparse_csr)"
      ]
     },
     "execution_count": 3,
     "metadata": {},
     "output_type": "execute_result"
    }
   ],
   "source": [
    "x"
   ]
  },
  {
   "cell_type": "code",
   "execution_count": 13,
   "metadata": {},
   "outputs": [
    {
     "data": {
      "text/plain": [
       "tensor(0.0318)"
      ]
     },
     "execution_count": 13,
     "metadata": {},
     "output_type": "execute_result"
    }
   ],
   "source": [
    "torch.prod(torch.tensor(nonzero))/torch.prod(torch.tensor(acts[0].shape))"
   ]
  }
 ],
 "metadata": {
  "kernelspec": {
   "display_name": "hi",
   "language": "python",
   "name": "python3"
  },
  "language_info": {
   "codemirror_mode": {
    "name": "ipython",
    "version": 3
   },
   "file_extension": ".py",
   "mimetype": "text/x-python",
   "name": "python",
   "nbconvert_exporter": "python",
   "pygments_lexer": "ipython3",
   "version": "3.11.5"
  }
 },
 "nbformat": 4,
 "nbformat_minor": 2
}
