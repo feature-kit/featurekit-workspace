{
 "cells": [
  {
   "cell_type": "code",
   "execution_count": 17,
   "metadata": {},
   "outputs": [
    {
     "name": "stdout",
     "output_type": "stream",
     "text": [
      "mlp_F6000_clipped\n"
     ]
    }
   ],
   "source": [
    "# Load acts and toks\n",
    "\n",
    "import torch\n",
    "import numpy as np\n",
    "from transformers import AutoTokenizer\n",
    "from interp_utils import reload_module\n",
    "from sparse_models import SimpleSparseMLP\n",
    "from feature_kit import *\n",
    "import torch\n",
    "\n",
    "device = 'cuda' if torch.cuda.is_available() else 'cpu'\n",
    "\n",
    "fname = f'mlp_F6000_clipped'\n",
    "\n",
    "acts = torch.load(f'cached_acts/train/{fname}_sparse.pt')\n",
    "\n",
    "# acts = [acts[i].to_dense()[:300].to_sparse() for i in range(len(acts))]\n",
    "# acts[1000] = acts[1000].to_dense()[:3000]\n",
    "# per_doc_maxes = acts.max(dim=-1).values\n",
    "# per_doc_maxes = per_doc_maxes/(per_doc_maxes.max(dim=-1).values[:,None]+1)\n",
    "\n",
    "docs = torch.load('cached_acts/train/train_tok_strs.pt')[:3000]\n",
    "docs = np.array([[tok.replace(' ', '○').replace('\\n', '↵') for tok in doc] for doc in docs])\n",
    "doc_ids = torch.load('cached_acts/train/train_tok_ids.pt')[:3000]\n",
    "\n",
    "mlp = SimpleSparseMLP(n_features=6000, d_model=768)\n",
    "mlp.load_state_dict(torch.load(f'./sparse-mlps/{fname}.pt', map_location=device))\n",
    "\n",
    "print(fname)"
   ]
  },
  {
   "cell_type": "code",
   "execution_count": 18,
   "metadata": {},
   "outputs": [],
   "source": [
    "# doc_strings = [''.join(doc[:128]) for doc in docs.tolist()]\n",
    "\n",
    "# def filter_docs(and_=[], or_=[], not_=[]):\n",
    "#     '''\n",
    "#     and_: list of strings\n",
    "#     or_: list of strings\n",
    "#     not_: list of strings\n",
    "\n",
    "#     filter docs for documents that include every string in and_ as a substring, at least one substring in or_, and no substrings in not_\n",
    "#     '''\n",
    "#     return np.array([i for i, doc in enumerate(doc_strings) if (any([inc in doc for inc in or_]) or len(or_) == 0) and (not any([exc in doc for exc in not_]) or len(not_) == 0) and all([inc in doc for inc in and_])])\n",
    "\n",
    "# def get_feature_data(feature_idx, and_=[], or_=[], not_=[], reversed=False):\n",
    "#     subset = filter_docs(and_=and_, or_=or_, not_=not_)\n",
    "#     print(f'Found {len(subset)} docs')\n",
    "\n",
    "#     feature_acts = acts[feature_idx].to_dense()\n",
    "#     feature_acts = ((feature_acts/feature_acts.max())[subset])\n",
    "\n",
    "#     perm = feature_acts.max(dim=-1).values.argsort(descending=reversed)\n",
    "#     feature_acts = feature_acts[perm]\n",
    "#     feature_docs = docs[subset][perm]\n",
    "#     feature_doc_ids = doc_ids[subset][perm]\n",
    "#     per_doc_feature_maxes = feature_acts.max(dim=-1).values\n",
    "\n",
    "#     return feature_docs, feature_doc_ids, feature_acts, per_doc_feature_maxes"
   ]
  },
  {
   "cell_type": "code",
   "execution_count": 19,
   "metadata": {},
   "outputs": [],
   "source": []
  },
  {
   "cell_type": "code",
   "execution_count": 21,
   "metadata": {},
   "outputs": [
    {
     "data": {
      "text/plain": [
       "'/home/noa/PySvelte/pysvelte/__init__.py'"
      ]
     },
     "execution_count": 21,
     "metadata": {},
     "output_type": "execute_result"
    }
   ],
   "source": [
    "pysvelte.__file__"
   ]
  },
  {
   "cell_type": "code",
   "execution_count": 31,
   "metadata": {},
   "outputs": [
    {
     "data": {
      "text/plain": [
       "tensor(1.)"
      ]
     },
     "execution_count": 31,
     "metadata": {},
     "output_type": "execute_result"
    }
   ],
   "source": [
    "feature_acts.max()"
   ]
  },
  {
   "cell_type": "code",
   "execution_count": 2,
   "metadata": {},
   "outputs": [
    {
     "name": "stdout",
     "output_type": "stream",
     "text": [
      "pysvelte components appear to be unbuilt or stale\n",
      "Building pysvelte components with webpack...\n",
      "\n",
      "> pysvelte@1.0.0 webpack\n",
      "> node ./node_modules/.bin/webpack\n",
      "\n",
      "entry: {\"loader\":\"./src/loader.js\",\"AttentionMulti\":\"./src/AttentionMulti.svelte\",\"DoubleSlider\":\"./src/DoubleSlider.svelte\",\"Hello\":\"./src/Hello.svelte\",\"TopKTable\":\"./src/TopKTable.svelte\",\"WeightedDoc\":\"./src/WeightedDoc.svelte\",\"WeightedDocs\":\"./src/WeightedDocs.svelte\",\"WeightedDocsControl\":\"./src/WeightedDocsControl.svelte\"}\n",
      "asset \u001b[1m\u001b[32mAttentionMulti.js\u001b[39m\u001b[22m 47.5 KiB \u001b[1m\u001b[32m[emitted]\u001b[39m\u001b[22m \u001b[1m\u001b[32m[minimized]\u001b[39m\u001b[22m (name: AttentionMulti)\n",
      "asset \u001b[1m\u001b[32mTopKTable.js\u001b[39m\u001b[22m 39.7 KiB \u001b[1m\u001b[32m[emitted]\u001b[39m\u001b[22m \u001b[1m\u001b[32m[minimized]\u001b[39m\u001b[22m (name: TopKTable)\n",
      "asset \u001b[1m\u001b[32mWeightedDocsControl.js\u001b[39m\u001b[22m 37.5 KiB \u001b[1m\u001b[32m[emitted]\u001b[39m\u001b[22m \u001b[1m\u001b[32m[minimized]\u001b[39m\u001b[22m (name: WeightedDocsControl)\n",
      "asset \u001b[1m\u001b[32mDoubleSlider.js\u001b[39m\u001b[22m 34.8 KiB \u001b[1m\u001b[32m[emitted]\u001b[39m\u001b[22m \u001b[1m\u001b[32m[minimized]\u001b[39m\u001b[22m (name: DoubleSlider)\n",
      "asset \u001b[1m\u001b[32mWeightedDocs.js\u001b[39m\u001b[22m 33.5 KiB \u001b[1m\u001b[32m[emitted]\u001b[39m\u001b[22m \u001b[1m\u001b[32m[minimized]\u001b[39m\u001b[22m (name: WeightedDocs)\n",
      "asset \u001b[1m\u001b[32mloader.js\u001b[39m\u001b[22m 32.2 KiB \u001b[1m\u001b[32m[emitted]\u001b[39m\u001b[22m \u001b[1m\u001b[32m[minimized]\u001b[39m\u001b[22m (name: loader)\n",
      "asset \u001b[1m\u001b[32mWeightedDoc.js\u001b[39m\u001b[22m 29.9 KiB \u001b[1m\u001b[32m[emitted]\u001b[39m\u001b[22m \u001b[1m\u001b[32m[minimized]\u001b[39m\u001b[22m (name: WeightedDoc)\n",
      "asset \u001b[1m\u001b[32mHello.js\u001b[39m\u001b[22m 27.5 KiB \u001b[1m\u001b[32m[emitted]\u001b[39m\u001b[22m \u001b[1m\u001b[32m[minimized]\u001b[39m\u001b[22m (name: Hello)\n",
      "orphan modules 36.5 KiB \u001b[1m\u001b[33m[orphan]\u001b[39m\u001b[22m 19 modules\n",
      "runtime modules 3.35 KiB 17 modules\n",
      "cacheable modules 584 KiB\n",
      "  modules by path \u001b[1m./node_modules/\u001b[39m\u001b[22m 199 KiB\n",
      "    modules by path \u001b[1m./node_modules/pako/lib/\u001b[39m\u001b[22m 102 KiB\n",
      "      modules by path \u001b[1m./node_modules/pako/lib/zlib/*.js\u001b[39m\u001b[22m 84.7 KiB 9 modules\n",
      "      modules by path \u001b[1m./node_modules/pako/lib/utils/*.js\u001b[39m\u001b[22m 5.62 KiB 2 modules\n",
      "      + 1 module\n",
      "    + 5 modules\n",
      "  modules by path \u001b[1m./src/\u001b[39m\u001b[22m 384 KiB\n",
      "    modules with warnings 146 KiB \u001b[1m\u001b[33m[warnings]\u001b[39m\u001b[22m\n",
      "      \u001b[1m./src/AttentionMulti.svelte + 6 modules\u001b[39m\u001b[22m 139 KiB \u001b[1m\u001b[33m[built]\u001b[39m\u001b[22m \u001b[1m\u001b[33m[code generated]\u001b[39m\u001b[22m \u001b[1m\u001b[33m[5 warnings]\u001b[39m\u001b[22m\n",
      "      \u001b[1m./src/WeightedDocsControl.svelte\u001b[39m\u001b[22m 6.37 KiB \u001b[1m\u001b[33m[built]\u001b[39m\u001b[22m \u001b[1m\u001b[33m[code generated]\u001b[39m\u001b[22m \u001b[1m\u001b[33m[1 warning]\u001b[39m\u001b[22m\n",
      "    + 6 modules\n",
      "\n",
      "\u001b[1m\u001b[33mWARNING\u001b[39m\u001b[22m in \u001b[1m./src/AttentionMulti.svelte\u001b[39m\u001b[22m\n",
      "\u001b[1mModule Warning (from ./node_modules/svelte-loader/index.js):\n",
      "A11y: visible, non-interactive elements with an on:click event \u001b[1m\u001b[33mmust\u001b[39m\u001b[22m\u001b[1m be accompanied by an on:keydown, on:keyup, or on:keypress event. (268:8)\n",
      "266:     <div class=\"toggle\"><nobr>\n",
      "267:         <input class=\"hover-mode\" type=\"checkbox\" bind:checked={hover_token_is_target}/>\n",
      "268:         <span class=\"hover-mode-text\"\n",
      "             ^\n",
      "269:               style=\"white-space: nowrap;\"\n",
      "270:               on:click={() => (hover_token_is_target = (hover_token_is_target ^ true))}>\u001b[39m\u001b[22m\n",
      "\n",
      "\u001b[1m\u001b[33mWARNING\u001b[39m\u001b[22m in \u001b[1m./src/AttentionMulti.svelte\u001b[39m\u001b[22m\n",
      "\u001b[1mModule Warning (from ./node_modules/svelte-loader/index.js):\n",
      "A11y: visible, non-interactive elements with an on:click event \u001b[1m\u001b[33mmust\u001b[39m\u001b[22m\u001b[1m be accompanied by an on:keydown, on:keyup, or on:keypress event. (275:8)\n",
      "273:         {#if info_weighted !== undefined}\n",
      "274:         <input class=\"info-mode\" type=\"checkbox\" bind:checked={_show_info_weighted}/>\n",
      "275:         <span class=\"info-mode-text\"\n",
      "             ^\n",
      "276:               style=\"white-space: nowrap;\"\n",
      "277:               on:click={() => (_show_info_weighted = (_show_info_weighted ^ true))}>\u001b[39m\u001b[22m\n",
      "\n",
      "\u001b[1m\u001b[33mWARNING\u001b[39m\u001b[22m in \u001b[1m./src/WeightedDocsControl.svelte\u001b[39m\u001b[22m\n",
      "\u001b[1mModule Warning (from ./node_modules/svelte-loader/index.js):\n",
      "Unused CSS selector \".vspace\" (47:4)\n",
      "45:     }\n",
      "46: \n",
      "47:     .vspace {\n",
      "        ^\n",
      "48:         height: .4rem;\n",
      "49:     }\u001b[39m\u001b[22m\n",
      "\n",
      "\u001b[1m\u001b[33mWARNING\u001b[39m\u001b[22m in \u001b[1m./src/components/LockableValueToggle.svelte\u001b[39m\u001b[22m\n",
      "\u001b[1mModule Warning (from ./node_modules/svelte-loader/index.js):\n",
      "A11y: on:mouseout \u001b[1m\u001b[33mmust\u001b[39m\u001b[22m\u001b[1m be accompanied by on:blur (22:0)\n",
      "20:     https://github.com/sveltejs/svelte/issues/3080\n",
      "21:   -->\n",
      "22: <div\n",
      "    ^\n",
      "23:     on:mouseover={() => {\n",
      "24:         lock = soft_update(lock, set_value);\u001b[39m\u001b[22m\n",
      " @ ./src/AttentionMulti.svelte 34:0-74 407:27-46 687:27-46\n",
      "\n",
      "\u001b[1m\u001b[33mWARNING\u001b[39m\u001b[22m in \u001b[1m./src/components/LockableValueToggle.svelte\u001b[39m\u001b[22m\n",
      "\u001b[1mModule Warning (from ./node_modules/svelte-loader/index.js):\n",
      "A11y: on:mouseover \u001b[1m\u001b[33mmust\u001b[39m\u001b[22m\u001b[1m be accompanied by on:focus (22:0)\n",
      "20:     https://github.com/sveltejs/svelte/issues/3080\n",
      "21:   -->\n",
      "22: <div\n",
      "    ^\n",
      "23:     on:mouseover={() => {\n",
      "24:         lock = soft_update(lock, set_value);\u001b[39m\u001b[22m\n",
      " @ ./src/AttentionMulti.svelte 34:0-74 407:27-46 687:27-46\n",
      "\n",
      "\u001b[1m\u001b[33mWARNING\u001b[39m\u001b[22m in \u001b[1m./src/components/LockableValueToggle.svelte\u001b[39m\u001b[22m\n",
      "\u001b[1mModule Warning (from ./node_modules/svelte-loader/index.js):\n",
      "A11y: visible, non-interactive elements with an on:click event \u001b[1m\u001b[33mmust\u001b[39m\u001b[22m\u001b[1m be accompanied by an on:keydown, on:keyup, or on:keypress event. (22:0)\n",
      "20:     https://github.com/sveltejs/svelte/issues/3080\n",
      "21:   -->\n",
      "22: <div\n",
      "    ^\n",
      "23:     on:mouseover={() => {\n",
      "24:         lock = soft_update(lock, set_value);\u001b[39m\u001b[22m\n",
      " @ ./src/AttentionMulti.svelte 34:0-74 407:27-46 687:27-46\n",
      "\n",
      "6 warnings have detailed information that is not shown.\n",
      "Use 'stats.errorDetails: true' resp. '--stats-error-details' to show it.\n",
      "\n",
      "webpack 5.89.0 compiled with \u001b[1m\u001b[33m6 warnings\u001b[39m\u001b[22m in 6250 ms\n"
     ]
    },
    {
     "data": {
      "text/plain": [
       "'./test.html'"
      ]
     },
     "execution_count": 2,
     "metadata": {},
     "output_type": "execute_result"
    }
   ],
   "source": [
    "from interp_utils import reload_module\n",
    "reload_module('pysvelte')\n",
    "import pysvelte\n",
    "\n",
    "pysvelte.WeightedDocsControl().publish('./test.html')\n",
    "\n"
   ]
  },
  {
   "cell_type": "code",
   "execution_count": 2,
   "metadata": {},
   "outputs": [
    {
     "name": "stdout",
     "output_type": "stream",
     "text": [
      "pysvelte components appear to be unbuilt or stale\n",
      "Building pysvelte components with webpack...\n",
      "\n",
      "> pysvelte@1.0.0 webpack\n",
      "> node ./node_modules/.bin/webpack\n",
      "\n",
      "entry: {\"loader\":\"./src/loader.js\",\"AttentionMulti\":\"./src/AttentionMulti.svelte\",\"Hello\":\"./src/Hello.svelte\",\"Test\":\"./src/Test.svelte\",\"TopKTable\":\"./src/TopKTable.svelte\",\"WeightedDoc\":\"./src/WeightedDoc.svelte\",\"WeightedDocs\":\"./src/WeightedDocs.svelte\"}\n"
     ]
    },
    {
     "ename": "KeyboardInterrupt",
     "evalue": "",
     "output_type": "error",
     "traceback": [
      "\u001b[0;31m---------------------------------------------------------------------------\u001b[0m",
      "\u001b[0;31mKeyboardInterrupt\u001b[0m                         Traceback (most recent call last)",
      "\u001b[1;32m/media/noa/big_ssd/featurekit-workspace/example.ipynb Cell 7\u001b[0m line \u001b[0;36m1\n\u001b[1;32m      <a href='vscode-notebook-cell:/media/noa/big_ssd/featurekit-workspace/example.ipynb#W3sZmlsZQ%3D%3D?line=2'>3</a>\u001b[0m \u001b[39mimport\u001b[39;00m \u001b[39mpysvelte\u001b[39;00m\n\u001b[1;32m      <a href='vscode-notebook-cell:/media/noa/big_ssd/featurekit-workspace/example.ipynb#W3sZmlsZQ%3D%3D?line=4'>5</a>\u001b[0m \u001b[39m# FEATURE_IDX = 1500\u001b[39;00m\n\u001b[1;32m      <a href='vscode-notebook-cell:/media/noa/big_ssd/featurekit-workspace/example.ipynb#W3sZmlsZQ%3D%3D?line=5'>6</a>\u001b[0m \u001b[39m# # feature_docs, feature_doc_ids, feature_acts, feature_maxes = get_feature_data(feature_idx=FEATURE_IDX, and_=[], or_=[], not_=[], reversed=False)\u001b[39;00m\n\u001b[1;32m      <a href='vscode-notebook-cell:/media/noa/big_ssd/featurekit-workspace/example.ipynb#W3sZmlsZQ%3D%3D?line=6'>7</a>\u001b[0m \u001b[39m# # print(FEATURE_IDX)\u001b[39;00m\n\u001b[1;32m      <a href='vscode-notebook-cell:/media/noa/big_ssd/featurekit-workspace/example.ipynb#W3sZmlsZQ%3D%3D?line=7'>8</a>\u001b[0m \n\u001b[1;32m      <a href='vscode-notebook-cell:/media/noa/big_ssd/featurekit-workspace/example.ipynb#W3sZmlsZQ%3D%3D?line=8'>9</a>\u001b[0m \u001b[39m# feature_acts = acts[FEATURE_IDX].to_dense()\u001b[39;00m\n\u001b[1;32m     <a href='vscode-notebook-cell:/media/noa/big_ssd/featurekit-workspace/example.ipynb#W3sZmlsZQ%3D%3D?line=9'>10</a>\u001b[0m \u001b[39m# feature_acts = feature_acts/feature_acts.max()\u001b[39;00m\n\u001b[0;32m---> <a href='vscode-notebook-cell:/media/noa/big_ssd/featurekit-workspace/example.ipynb#W3sZmlsZQ%3D%3D?line=11'>12</a>\u001b[0m pysvelte\u001b[39m.\u001b[39mTest()\n\u001b[1;32m     <a href='vscode-notebook-cell:/media/noa/big_ssd/featurekit-workspace/example.ipynb#W3sZmlsZQ%3D%3D?line=12'>13</a>\u001b[0m \u001b[39m# pysvelte.WeightedDocs(tokens=docs.tolist(), weights=feature_acts).show()#.publish('./test.html')#, per_doc_maxes=feature_maxes.tolist()).show()\u001b[39;00m\n",
      "File \u001b[0;32m~/.miniconda/envs/hi/lib/python3.11/site-packages/IPython/core/displayhook.py:268\u001b[0m, in \u001b[0;36mDisplayHook.__call__\u001b[0;34m(self, result)\u001b[0m\n\u001b[1;32m    266\u001b[0m \u001b[39mself\u001b[39m\u001b[39m.\u001b[39mstart_displayhook()\n\u001b[1;32m    267\u001b[0m \u001b[39mself\u001b[39m\u001b[39m.\u001b[39mwrite_output_prompt()\n\u001b[0;32m--> 268\u001b[0m format_dict, md_dict \u001b[39m=\u001b[39m \u001b[39mself\u001b[39;49m\u001b[39m.\u001b[39;49mcompute_format_data(result)\n\u001b[1;32m    269\u001b[0m \u001b[39mself\u001b[39m\u001b[39m.\u001b[39mupdate_user_ns(result)\n\u001b[1;32m    270\u001b[0m \u001b[39mself\u001b[39m\u001b[39m.\u001b[39mfill_exec_result(result)\n",
      "File \u001b[0;32m~/.miniconda/envs/hi/lib/python3.11/site-packages/IPython/core/displayhook.py:157\u001b[0m, in \u001b[0;36mDisplayHook.compute_format_data\u001b[0;34m(self, result)\u001b[0m\n\u001b[1;32m    127\u001b[0m \u001b[39mdef\u001b[39;00m \u001b[39mcompute_format_data\u001b[39m(\u001b[39mself\u001b[39m, result):\n\u001b[1;32m    128\u001b[0m \u001b[39m    \u001b[39m\u001b[39m\"\"\"Compute format data of the object to be displayed.\u001b[39;00m\n\u001b[1;32m    129\u001b[0m \n\u001b[1;32m    130\u001b[0m \u001b[39m    The format data is a generalization of the :func:`repr` of an object.\u001b[39;00m\n\u001b[0;32m   (...)\u001b[0m\n\u001b[1;32m    155\u001b[0m \n\u001b[1;32m    156\u001b[0m \u001b[39m    \"\"\"\u001b[39;00m\n\u001b[0;32m--> 157\u001b[0m     \u001b[39mreturn\u001b[39;00m \u001b[39mself\u001b[39;49m\u001b[39m.\u001b[39;49mshell\u001b[39m.\u001b[39;49mdisplay_formatter\u001b[39m.\u001b[39;49mformat(result)\n",
      "File \u001b[0;32m~/.miniconda/envs/hi/lib/python3.11/site-packages/IPython/core/formatters.py:179\u001b[0m, in \u001b[0;36mDisplayFormatter.format\u001b[0;34m(self, obj, include, exclude)\u001b[0m\n\u001b[1;32m    177\u001b[0m md \u001b[39m=\u001b[39m \u001b[39mNone\u001b[39;00m\n\u001b[1;32m    178\u001b[0m \u001b[39mtry\u001b[39;00m:\n\u001b[0;32m--> 179\u001b[0m     data \u001b[39m=\u001b[39m formatter(obj)\n\u001b[1;32m    180\u001b[0m \u001b[39mexcept\u001b[39;00m:\n\u001b[1;32m    181\u001b[0m     \u001b[39m# FIXME: log the exception\u001b[39;00m\n\u001b[1;32m    182\u001b[0m     \u001b[39mraise\u001b[39;00m\n",
      "File \u001b[0;32m~/.miniconda/envs/hi/lib/python3.11/site-packages/decorator.py:232\u001b[0m, in \u001b[0;36mdecorate.<locals>.fun\u001b[0;34m(*args, **kw)\u001b[0m\n\u001b[1;32m    230\u001b[0m \u001b[39mif\u001b[39;00m \u001b[39mnot\u001b[39;00m kwsyntax:\n\u001b[1;32m    231\u001b[0m     args, kw \u001b[39m=\u001b[39m fix(args, kw, sig)\n\u001b[0;32m--> 232\u001b[0m \u001b[39mreturn\u001b[39;00m caller(func, \u001b[39m*\u001b[39;49m(extras \u001b[39m+\u001b[39;49m args), \u001b[39m*\u001b[39;49m\u001b[39m*\u001b[39;49mkw)\n",
      "File \u001b[0;32m~/.miniconda/envs/hi/lib/python3.11/site-packages/IPython/core/formatters.py:223\u001b[0m, in \u001b[0;36mcatch_format_error\u001b[0;34m(method, self, *args, **kwargs)\u001b[0m\n\u001b[1;32m    221\u001b[0m \u001b[39m\u001b[39m\u001b[39m\"\"\"show traceback on failed format call\"\"\"\u001b[39;00m\n\u001b[1;32m    222\u001b[0m \u001b[39mtry\u001b[39;00m:\n\u001b[0;32m--> 223\u001b[0m     r \u001b[39m=\u001b[39m method(\u001b[39mself\u001b[39;49m, \u001b[39m*\u001b[39;49margs, \u001b[39m*\u001b[39;49m\u001b[39m*\u001b[39;49mkwargs)\n\u001b[1;32m    224\u001b[0m \u001b[39mexcept\u001b[39;00m \u001b[39mNotImplementedError\u001b[39;00m:\n\u001b[1;32m    225\u001b[0m     \u001b[39m# don't warn on NotImplementedErrors\u001b[39;00m\n\u001b[1;32m    226\u001b[0m     \u001b[39mreturn\u001b[39;00m \u001b[39mself\u001b[39m\u001b[39m.\u001b[39m_check_return(\u001b[39mNone\u001b[39;00m, args[\u001b[39m0\u001b[39m])\n",
      "File \u001b[0;32m~/.miniconda/envs/hi/lib/python3.11/site-packages/IPython/core/formatters.py:344\u001b[0m, in \u001b[0;36mBaseFormatter.__call__\u001b[0;34m(self, obj)\u001b[0m\n\u001b[1;32m    342\u001b[0m     method \u001b[39m=\u001b[39m get_real_method(obj, \u001b[39mself\u001b[39m\u001b[39m.\u001b[39mprint_method)\n\u001b[1;32m    343\u001b[0m     \u001b[39mif\u001b[39;00m method \u001b[39mis\u001b[39;00m \u001b[39mnot\u001b[39;00m \u001b[39mNone\u001b[39;00m:\n\u001b[0;32m--> 344\u001b[0m         \u001b[39mreturn\u001b[39;00m method()\n\u001b[1;32m    345\u001b[0m     \u001b[39mreturn\u001b[39;00m \u001b[39mNone\u001b[39;00m\n\u001b[1;32m    346\u001b[0m \u001b[39melse\u001b[39;00m:\n",
      "File \u001b[0;32m~/PySvelte/pysvelte/html.py:73\u001b[0m, in \u001b[0;36mHtml._repr_html_\u001b[0;34m(self)\u001b[0m\n\u001b[1;32m     72\u001b[0m \u001b[39mdef\u001b[39;00m \u001b[39m_repr_html_\u001b[39m(\u001b[39mself\u001b[39m):\n\u001b[0;32m---> 73\u001b[0m     \u001b[39mreturn\u001b[39;00m \u001b[39mself\u001b[39;49m\u001b[39m.\u001b[39;49mhtml_inline_str()\n",
      "File \u001b[0;32m~/PySvelte/pysvelte/html.py:113\u001b[0m, in \u001b[0;36mHtml.html_inline_str\u001b[0;34m(self)\u001b[0m\n\u001b[1;32m    107\u001b[0m \u001b[39mdef\u001b[39;00m \u001b[39mhtml_inline_str\u001b[39m(\u001b[39mself\u001b[39m) \u001b[39m-\u001b[39m\u001b[39m>\u001b[39m \u001b[39mstr\u001b[39m:\n\u001b[1;32m    108\u001b[0m \u001b[39m    \u001b[39m\u001b[39m\"\"\"\u001b[39;00m\n\u001b[1;32m    109\u001b[0m \u001b[39m    Render the HTML in \"colab inline\" format, with javascript from script paths\u001b[39;00m\n\u001b[1;32m    110\u001b[0m \u001b[39m    (but ignoring \"dev mode\" and just requesting static pages, because it doesn't work in colab).\u001b[39;00m\n\u001b[1;32m    111\u001b[0m \u001b[39m    \"\"\"\u001b[39;00m\n\u001b[1;32m    112\u001b[0m     \u001b[39mreturn\u001b[39;00m \u001b[39mf\u001b[39m\u001b[39m\"\"\"\u001b[39m\n\u001b[0;32m--> 113\u001b[0m \u001b[39m    \u001b[39m\u001b[39m{\u001b[39;00mget_script_tags(\u001b[39mself\u001b[39;49m\u001b[39m.\u001b[39;49mscript_paths)\u001b[39m}\u001b[39;00m\n\u001b[1;32m    114\u001b[0m \u001b[39m    \u001b[39m\u001b[39m{\u001b[39;00m\u001b[39mself\u001b[39m\u001b[39m.\u001b[39mhtml_str()\u001b[39m}\u001b[39;00m\n\u001b[1;32m    115\u001b[0m \u001b[39m    \u001b[39m\u001b[39m\"\"\"\u001b[39m\n",
      "File \u001b[0;32m~/PySvelte/pysvelte/javascript.py:119\u001b[0m, in \u001b[0;36mget_script_tags\u001b[0;34m(paths, dev_host)\u001b[0m\n\u001b[1;32m    107\u001b[0m \u001b[39m\u001b[39m\u001b[39m\"\"\"Get html <script> tags to load the visualizations at paths.\u001b[39;00m\n\u001b[1;32m    108\u001b[0m \n\u001b[1;32m    109\u001b[0m \u001b[39mArgs:\u001b[39;00m\n\u001b[0;32m   (...)\u001b[0m\n\u001b[1;32m    113\u001b[0m \u001b[39m    load it from a url based on dev_host.\u001b[39;00m\n\u001b[1;32m    114\u001b[0m \u001b[39m\"\"\"\u001b[39;00m\n\u001b[1;32m    115\u001b[0m \u001b[39mif\u001b[39;00m dev_host \u001b[39mis\u001b[39;00m \u001b[39mNone\u001b[39;00m:\n\u001b[1;32m    116\u001b[0m     \u001b[39m# Although the get_script_tag() below would also trigger builds,\u001b[39;00m\n\u001b[1;32m    117\u001b[0m     \u001b[39m# doing it like this builds all needed assets in one pass which is\u001b[39;00m\n\u001b[1;32m    118\u001b[0m     \u001b[39m# significantly faster.\u001b[39;00m\n\u001b[0;32m--> 119\u001b[0m     webpack_if_necessary(paths)\n\u001b[1;32m    120\u001b[0m tags \u001b[39m=\u001b[39m [get_script_tag(path, dev_host\u001b[39m=\u001b[39mdev_host) \u001b[39mfor\u001b[39;00m path \u001b[39min\u001b[39;00m paths]\n\u001b[1;32m    121\u001b[0m \u001b[39mreturn\u001b[39;00m \u001b[39m\"\u001b[39m\u001b[39m\\n\u001b[39;00m\u001b[39m\"\u001b[39m\u001b[39m.\u001b[39mjoin(tags)\n",
      "File \u001b[0;32m~/PySvelte/pysvelte/javascript.py:67\u001b[0m, in \u001b[0;36mwebpack_if_necessary\u001b[0;34m(paths)\u001b[0m\n\u001b[1;32m     65\u001b[0m \u001b[39melse\u001b[39;00m:\n\u001b[1;32m     66\u001b[0m     env_flag \u001b[39m=\u001b[39m []\n\u001b[0;32m---> 67\u001b[0m subprocess\u001b[39m.\u001b[39;49mcheck_call([\u001b[39m\"\u001b[39;49m\u001b[39mnpm\u001b[39;49m\u001b[39m\"\u001b[39;49m, \u001b[39m\"\u001b[39;49m\u001b[39mrun\u001b[39;49m\u001b[39m\"\u001b[39;49m, \u001b[39m\"\u001b[39;49m\u001b[39mwebpack\u001b[39;49m\u001b[39m\"\u001b[39;49m] \u001b[39m+\u001b[39;49m env_flag, cwd\u001b[39m=\u001b[39;49m\u001b[39mstr\u001b[39;49m(PYSVELTE_ROOT))\n",
      "File \u001b[0;32m~/.miniconda/envs/hi/lib/python3.11/subprocess.py:408\u001b[0m, in \u001b[0;36mcheck_call\u001b[0;34m(*popenargs, **kwargs)\u001b[0m\n\u001b[1;32m    398\u001b[0m \u001b[39mdef\u001b[39;00m \u001b[39mcheck_call\u001b[39m(\u001b[39m*\u001b[39mpopenargs, \u001b[39m*\u001b[39m\u001b[39m*\u001b[39mkwargs):\n\u001b[1;32m    399\u001b[0m \u001b[39m    \u001b[39m\u001b[39m\"\"\"Run command with arguments.  Wait for command to complete.  If\u001b[39;00m\n\u001b[1;32m    400\u001b[0m \u001b[39m    the exit code was zero then return, otherwise raise\u001b[39;00m\n\u001b[1;32m    401\u001b[0m \u001b[39m    CalledProcessError.  The CalledProcessError object will have the\u001b[39;00m\n\u001b[0;32m   (...)\u001b[0m\n\u001b[1;32m    406\u001b[0m \u001b[39m    check_call([\"ls\", \"-l\"])\u001b[39;00m\n\u001b[1;32m    407\u001b[0m \u001b[39m    \"\"\"\u001b[39;00m\n\u001b[0;32m--> 408\u001b[0m     retcode \u001b[39m=\u001b[39m call(\u001b[39m*\u001b[39;49mpopenargs, \u001b[39m*\u001b[39;49m\u001b[39m*\u001b[39;49mkwargs)\n\u001b[1;32m    409\u001b[0m     \u001b[39mif\u001b[39;00m retcode:\n\u001b[1;32m    410\u001b[0m         cmd \u001b[39m=\u001b[39m kwargs\u001b[39m.\u001b[39mget(\u001b[39m\"\u001b[39m\u001b[39margs\u001b[39m\u001b[39m\"\u001b[39m)\n",
      "File \u001b[0;32m~/.miniconda/envs/hi/lib/python3.11/subprocess.py:391\u001b[0m, in \u001b[0;36mcall\u001b[0;34m(timeout, *popenargs, **kwargs)\u001b[0m\n\u001b[1;32m    389\u001b[0m \u001b[39mwith\u001b[39;00m Popen(\u001b[39m*\u001b[39mpopenargs, \u001b[39m*\u001b[39m\u001b[39m*\u001b[39mkwargs) \u001b[39mas\u001b[39;00m p:\n\u001b[1;32m    390\u001b[0m     \u001b[39mtry\u001b[39;00m:\n\u001b[0;32m--> 391\u001b[0m         \u001b[39mreturn\u001b[39;00m p\u001b[39m.\u001b[39;49mwait(timeout\u001b[39m=\u001b[39;49mtimeout)\n\u001b[1;32m    392\u001b[0m     \u001b[39mexcept\u001b[39;00m:  \u001b[39m# Including KeyboardInterrupt, wait handled that.\u001b[39;00m\n\u001b[1;32m    393\u001b[0m         p\u001b[39m.\u001b[39mkill()\n",
      "File \u001b[0;32m~/.miniconda/envs/hi/lib/python3.11/subprocess.py:1264\u001b[0m, in \u001b[0;36mPopen.wait\u001b[0;34m(self, timeout)\u001b[0m\n\u001b[1;32m   1262\u001b[0m     endtime \u001b[39m=\u001b[39m _time() \u001b[39m+\u001b[39m timeout\n\u001b[1;32m   1263\u001b[0m \u001b[39mtry\u001b[39;00m:\n\u001b[0;32m-> 1264\u001b[0m     \u001b[39mreturn\u001b[39;00m \u001b[39mself\u001b[39;49m\u001b[39m.\u001b[39;49m_wait(timeout\u001b[39m=\u001b[39;49mtimeout)\n\u001b[1;32m   1265\u001b[0m \u001b[39mexcept\u001b[39;00m \u001b[39mKeyboardInterrupt\u001b[39;00m:\n\u001b[1;32m   1266\u001b[0m     \u001b[39m# https://bugs.python.org/issue25942\u001b[39;00m\n\u001b[1;32m   1267\u001b[0m     \u001b[39m# The first keyboard interrupt waits briefly for the child to\u001b[39;00m\n\u001b[1;32m   1268\u001b[0m     \u001b[39m# exit under the common assumption that it also received the ^C\u001b[39;00m\n\u001b[1;32m   1269\u001b[0m     \u001b[39m# generated SIGINT and will exit rapidly.\u001b[39;00m\n\u001b[1;32m   1270\u001b[0m     \u001b[39mif\u001b[39;00m timeout \u001b[39mis\u001b[39;00m \u001b[39mnot\u001b[39;00m \u001b[39mNone\u001b[39;00m:\n",
      "File \u001b[0;32m~/.miniconda/envs/hi/lib/python3.11/subprocess.py:2046\u001b[0m, in \u001b[0;36mPopen._wait\u001b[0;34m(self, timeout)\u001b[0m\n\u001b[1;32m   2044\u001b[0m \u001b[39mif\u001b[39;00m \u001b[39mself\u001b[39m\u001b[39m.\u001b[39mreturncode \u001b[39mis\u001b[39;00m \u001b[39mnot\u001b[39;00m \u001b[39mNone\u001b[39;00m:\n\u001b[1;32m   2045\u001b[0m     \u001b[39mbreak\u001b[39;00m  \u001b[39m# Another thread waited.\u001b[39;00m\n\u001b[0;32m-> 2046\u001b[0m (pid, sts) \u001b[39m=\u001b[39m \u001b[39mself\u001b[39;49m\u001b[39m.\u001b[39;49m_try_wait(\u001b[39m0\u001b[39;49m)\n\u001b[1;32m   2047\u001b[0m \u001b[39m# Check the pid and loop as waitpid has been known to\u001b[39;00m\n\u001b[1;32m   2048\u001b[0m \u001b[39m# return 0 even without WNOHANG in odd situations.\u001b[39;00m\n\u001b[1;32m   2049\u001b[0m \u001b[39m# http://bugs.python.org/issue14396.\u001b[39;00m\n\u001b[1;32m   2050\u001b[0m \u001b[39mif\u001b[39;00m pid \u001b[39m==\u001b[39m \u001b[39mself\u001b[39m\u001b[39m.\u001b[39mpid:\n",
      "File \u001b[0;32m~/.miniconda/envs/hi/lib/python3.11/subprocess.py:2004\u001b[0m, in \u001b[0;36mPopen._try_wait\u001b[0;34m(self, wait_flags)\u001b[0m\n\u001b[1;32m   2002\u001b[0m \u001b[39m\u001b[39m\u001b[39m\"\"\"All callers to this function MUST hold self._waitpid_lock.\"\"\"\u001b[39;00m\n\u001b[1;32m   2003\u001b[0m \u001b[39mtry\u001b[39;00m:\n\u001b[0;32m-> 2004\u001b[0m     (pid, sts) \u001b[39m=\u001b[39m os\u001b[39m.\u001b[39;49mwaitpid(\u001b[39mself\u001b[39;49m\u001b[39m.\u001b[39;49mpid, wait_flags)\n\u001b[1;32m   2005\u001b[0m \u001b[39mexcept\u001b[39;00m \u001b[39mChildProcessError\u001b[39;00m:\n\u001b[1;32m   2006\u001b[0m     \u001b[39m# This happens if SIGCLD is set to be ignored or waiting\u001b[39;00m\n\u001b[1;32m   2007\u001b[0m     \u001b[39m# for child processes has otherwise been disabled for our\u001b[39;00m\n\u001b[1;32m   2008\u001b[0m     \u001b[39m# process.  This child is dead, we can't get the status.\u001b[39;00m\n\u001b[1;32m   2009\u001b[0m     pid \u001b[39m=\u001b[39m \u001b[39mself\u001b[39m\u001b[39m.\u001b[39mpid\n",
      "\u001b[0;31mKeyboardInterrupt\u001b[0m: "
     ]
    }
   ],
   "source": [
    "from interp_utils import reload_module\n",
    "reload_module('pysvelte')\n",
    "import pysvelte\n",
    "\n",
    "# FEATURE_IDX = 1500\n",
    "# # feature_docs, feature_doc_ids, feature_acts, feature_maxes = get_feature_data(feature_idx=FEATURE_IDX, and_=[], or_=[], not_=[], reversed=False)\n",
    "# # print(FEATURE_IDX)\n",
    "\n",
    "# feature_acts = acts[FEATURE_IDX].to_dense()\n",
    "# feature_acts = feature_acts/feature_acts.max()\n",
    "\n",
    "# pysvelte.WeightedDocs(tokens=docs.tolist(), weights=feature_acts).show()#.publish('./test.html')#, per_doc_maxes=feature_maxes.tolist()).show()"
   ]
  },
  {
   "cell_type": "code",
   "execution_count": null,
   "metadata": {},
   "outputs": [],
   "source": [
    "reload_module('feature_kit')\n",
    "from feature_kit import Seq\n",
    "hypothesis = Seq(' He', ' looked', ' down')\n",
    "hypothesis"
   ]
  },
  {
   "cell_type": "code",
   "execution_count": null,
   "metadata": {},
   "outputs": [],
   "source": [
    "def feature_filter(docs, weights, feature):\n",
    "    feat_indices = feature.get_feature(doc_ids).max(dim=-1).values.nonzero().flatten()\n",
    "    print(feat_indices)\n",
    "    print(docs.shape)\n",
    "    return docs[feat_indices], weights[feat_indices]\n",
    "    \n"
   ]
  },
  {
   "cell_type": "code",
   "execution_count": null,
   "metadata": {},
   "outputs": [],
   "source": []
  },
  {
   "cell_type": "code",
   "execution_count": null,
   "metadata": {},
   "outputs": [],
   "source": [
    "hypothesis.feats[0](enc(' a', ' test', '.', ' Every')[None].cuda())\n"
   ]
  },
  {
   "cell_type": "code",
   "execution_count": null,
   "metadata": {},
   "outputs": [],
   "source": [
    "period_every.get_feature(enc('.', ' Every')[None].cuda())"
   ]
  },
  {
   "cell_type": "code",
   "execution_count": null,
   "metadata": {},
   "outputs": [],
   "source": [
    "from interp_utils import reload_module\n",
    "reload_module('feature_kit')\n",
    "from feature_kit import *\n",
    "import torch\n",
    "import torch.nn as nn\n",
    "import torch.nn.functional as F\n",
    "import torch.optim as optim\n",
    "from tqdm import tqdm\n",
    "\n",
    "# hypothesis = Match(' to')\n",
    "hypothesis = Sum(\n",
    "    ' Every',\n",
    "    'Every',\n",
    "    ' Each',\n",
    "    ' every',\n",
    "    ' each',\n",
    "    ' Everyday',\n",
    ").cuda()\n",
    "period_every = Seq('.', ' Every').cuda()\n",
    "feature_acts = feature_acts.cuda()\n",
    "doc_ids = doc_ids.cuda()\n",
    "\n",
    "opt = optim.Adam(hypothesis.parameters(), lr=1e-2)\n",
    "pbar = tqdm(range(300))\n",
    "for epoch_index in pbar:\n",
    "    loss = ((hypothesis(feature_doc_ids) - feature_acts)**2).mean()\n",
    "    pbar.set_description(f'Loss: {loss:.2E}')\n",
    "    loss.backward()\n",
    "    opt.step()\n",
    "    opt.zero_grad()\n",
    "    \n",
    "hypothesis_acts = hypothesis(feature_doc_ids)\n",
    "errors = ((hypothesis_acts-feature_acts)**2).abs()\n",
    "# neg_errors = (feature_acts-hypothesis_acts).clamp(min=0)\n",
    "# perm = errors.min(dim=-1).values.argsort(descending=True)\n",
    "# # # perm = torch.abs(hypothesis(doc_ids) - feature_acts).max(dim=0).values.sort(descending=False).indices\n",
    "# # # perm = errors.min(dim=-1).values.argsort(descending=False)\n",
    "# # errors = errors.detach()[perm] #?\n",
    "# # per_doc_maxes = errors.max(dim=-1).values\n",
    "# pysvelte.WeightedDocs(tokens=feature_docs[perm].tolist(), weights=hypothesis_acts[perm].tolist(), per_doc_maxes=feature_maxes[perm].tolist()).show()\n",
    "\n",
    "# tokens, weights = feature_filter(feature_docs, hypothesis.get_feature(acts), feature=hypothesis)\n",
    "print(hypothesis)\n",
    "print(f'vs baseline: {loss/(feature_acts**2).mean()}')\n",
    "pysvelte.WeightedDocs(tokens=feature_docs, weights=errors.tolist(), reversed=False)#.publish('./test.html')\n"
   ]
  },
  {
   "cell_type": "code",
   "execution_count": null,
   "metadata": {},
   "outputs": [],
   "source": [
    "feature_docs[0]"
   ]
  },
  {
   "cell_type": "code",
   "execution_count": null,
   "metadata": {},
   "outputs": [],
   "source": [
    "hypothesis"
   ]
  },
  {
   "cell_type": "code",
   "execution_count": null,
   "metadata": {},
   "outputs": [],
   "source": [
    "\n",
    "\n",
    "import pysvelte\n",
    "reload_module('tok_labelling')\n",
    "from tok_labelling import new_tok_label, load_tok_label\n",
    "\n",
    "# new_tok_label(label='water_words', description=\"Strings that are related to water. For example, 'water', 'bath', 'overflow', 'tank', 'wet', 'ducks'\")\n",
    "water_words = load_tok_label('water_words')\n",
    "\n",
    "water_word_match = Match(*water_words)\n",
    "# water_word_cases = Seq(\n",
    "#     Cases(*water_words)\n",
    "# )\n",
    "\n",
    "feats_fn = Stack(\n",
    "    Match(' to')\n",
    ")\n",
    "\n",
    "MAX_DOCS_TO_PYSVELTE = 100000\n",
    "\n",
    "FIND_HOLES = False\n",
    "HIDE_POS_ERRS = False\n",
    "USE_MSE_IN_RENDERER = False\n",
    "\n",
    "feature_acts = acts[FEATURE_IDX].to_dense()\n",
    "feature_acts = feature_acts/feature_acts.max()\n",
    "reg_weights, reg_bias, pred = pred_feature(feature_acts, feats_fn, doc_ids)\n",
    "print(reg_weights)\n",
    "\n",
    "mse_errs = (feature_acts-pred)**2\n",
    "abs_errs = (feature_acts-pred).abs()\n",
    "\n",
    "signed_errs = mse_errs*(feature_acts-pred).sign() if USE_MSE_IN_RENDERER else abs_errs*(feature_acts-pred).sign()\n",
    "doc_maxes = mse_errs.max(dim=-1).values\n",
    "err_docs = doc_maxes.topk(k=10).indices\n",
    "\n",
    "# sort docs by error\n",
    "if FIND_HOLES:\n",
    "    perm = signed_errs.min(dim=-1).values.clamp(max=0).abs().argsort(descending=False)[-MAX_DOCS_TO_PYSVELTE:]\n",
    "    signed_errs = signed_errs[perm]\n",
    "else:\n",
    "    perm = mse_errs.max(dim=-1).values.argsort(descending=False)[-MAX_DOCS_TO_PYSVELTE:]\n",
    "    signed_errs = signed_errs[perm]\n",
    "\n",
    "if HIDE_POS_ERRS:\n",
    "    signed_errs = signed_errs.clamp(max=0)\n",
    "\n",
    "\n",
    "mse = mse_errs.mean()\n",
    "print(f'mse: {mse:.2E}')\n",
    "abs_errs = abs_errs[perm]\n",
    "feature_doc_subset = docs[perm] \n",
    "# weights = feature_acts[perm]s\n",
    "\n",
    "# feature_docs\n",
    "component = pysvelte.WeightedDocs(tokens=feature_doc_subset.tolist(), weights=signed_errs.tolist(), per_doc_maxes=doc_maxes.tolist(), reversed=False)\n",
    "component.show()\n",
    "\n"
   ]
  }
 ],
 "metadata": {
  "kernelspec": {
   "display_name": "Python 3 (ipykernel)",
   "language": "python",
   "name": "python3"
  },
  "language_info": {
   "codemirror_mode": {
    "name": "ipython",
    "version": 3
   },
   "file_extension": ".py",
   "mimetype": "text/x-python",
   "name": "python",
   "nbconvert_exporter": "python",
   "pygments_lexer": "ipython3",
   "version": "3.11.5"
  }
 },
 "nbformat": 4,
 "nbformat_minor": 2
}
