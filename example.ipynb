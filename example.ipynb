{
 "cells": [
  {
   "cell_type": "code",
   "execution_count": 3,
   "metadata": {},
   "outputs": [
    {
     "name": "stdout",
     "output_type": "stream",
     "text": [
      "mlp_F6000_S3_R1.pt\n"
     ]
    }
   ],
   "source": [
    "# Load acts and toks\n",
    "\n",
    "import torch\n",
    "import numpy as np\n",
    "from transformers import AutoTokenizer\n",
    "from interp_utils import reload_module\n",
    "from sparse_models import SparseMLP\n",
    "from feature_kit import *\n",
    "import torch\n",
    "\n",
    "device = 'cuda' if torch.cuda.is_available() else 'cpu'\n",
    "\n",
    "sparsity_levels = torch.arange(-5,5)\n",
    "sparsity = 3\n",
    "fname = f'mlp_F6000_S{sparsity}_R1.pt'\n",
    "\n",
    "acts = torch.load(f'val_acts/{fname}')\n",
    "per_doc_maxes = acts.max(dim=-1).values\n",
    "per_doc_maxes = per_doc_maxes/(per_doc_maxes.max(dim=-1).values[:,None]+1)\n",
    "\n",
    "docs = torch.load('val_acts/val_tok_strs.pt')[:acts.shape[-2]]\n",
    "doc_ids = torch.load('val_acts/val_tok_ids.pt')\n",
    "\n",
    "mlp = SparseMLP(n_features=6000, d_model=768, disable_comet=True)\n",
    "mlp.load_state_dict(torch.load(f'./sparse-mlps/{fname}', map_location=device))\n",
    "\n",
    "print(fname)"
   ]
  },
  {
   "cell_type": "code",
   "execution_count": null,
   "metadata": {},
   "outputs": [],
   "source": [
    "doc_strings = [''.join(doc[:128]) for doc in docs.tolist()]\n",
    "\n",
    "def filter_docs(and_=[], or_=[], not_=[]):\n",
    "    '''\n",
    "    and_: list of strings\n",
    "    or_: list of strings\n",
    "    not_: list of strings\n",
    "\n",
    "    filter docs for documents that include every string in and_ as a substring, at least one substring in or_, and no substrings in not_\n",
    "    '''\n",
    "    return np.array([i for i, doc in enumerate(doc_strings) if (any([inc in doc for inc in or_]) or len(or_) == 0) and (not any([exc in doc for exc in not_]) or len(not_) == 0) and all([inc in doc for inc in and_])])\n",
    "\n",
    "def get_feature_data(feature_idx, and_=[], or_=[], not_=[], reversed=False):\n",
    "    subset = filter_docs(and_=and_, or_=or_, not_=not_)\n",
    "    print(f'Found {len(subset)} docs')\n",
    "\n",
    "    feature_acts = (acts[feature_idx])\n",
    "    feature_acts = ((feature_acts/feature_acts.max())[subset])\n",
    "\n",
    "    perm = feature_acts.max(dim=-1).values.argsort(descending=reversed)\n",
    "    feature_acts = feature_acts[perm]\n",
    "    feature_docs = docs[subset][perm]\n",
    "    feature_doc_ids = doc_ids[subset][perm]\n",
    "    per_doc_feature_maxes = feature_acts.max(dim=-1).values\n",
    "\n",
    "    return feature_docs, feature_doc_ids, feature_acts, per_doc_feature_maxes"
   ]
  },
  {
   "cell_type": "code",
   "execution_count": null,
   "metadata": {},
   "outputs": [],
   "source": [
    "import pysvelte\n",
    "\n",
    "FEATURE_IDX = 3000\n",
    "feature_docs, feature_doc_ids, feature_weights, feature_maxes = get_feature_data(feature_idx=FEATURE_IDX, and_=[], or_=[], not_=[], reversed=False)\n",
    "print(FEATURE_IDX)\n",
    "\n",
    "pysvelte.WeightedDocs(tokens=feature_docs.tolist(), weights=feature_weights.tolist(), per_doc_maxes=feature_maxes.tolist()).show()"
   ]
  },
  {
   "cell_type": "code",
   "execution_count": null,
   "metadata": {},
   "outputs": [],
   "source": [
    "feature_acts.shape"
   ]
  },
  {
   "cell_type": "code",
   "execution_count": null,
   "metadata": {},
   "outputs": [],
   "source": [
    "acts.shape"
   ]
  },
  {
   "cell_type": "code",
   "execution_count": null,
   "metadata": {},
   "outputs": [],
   "source": [
    "' swim' in water_words"
   ]
  },
  {
   "cell_type": "code",
   "execution_count": 8,
   "metadata": {},
   "outputs": [],
   "source": [
    "\n"
   ]
  },
  {
   "cell_type": "code",
   "execution_count": null,
   "metadata": {},
   "outputs": [],
   "source": [
    "import pysvelte\n",
    "\n",
    "reload_module('tok_labelling')\n",
    "from tok_labelling import new_tok_label, load_tok_label\n",
    "\n",
    "# new_tok_label(title='water_words', description=\"Strings that are related to water. For example, 'water', 'bath', 'overflow', 'tank', 'wet', 'ducks'\")\n",
    "water_words = load_tok_label('water_words')\n",
    "\n",
    "water_word_match = Match(*water_words)\n",
    "# water_word_cases = Seq(\n",
    "#     Cases(*water_words)\n",
    "# )\n",
    "\n",
    "feats_fn = Stack(\n",
    "    water_word_match\n",
    "    # Anything()\n",
    ")\n",
    "\n",
    "MAX_DOCS_TO_PYSVELTE = 100000\n",
    "\n",
    "FIND_HOLES = False\n",
    "HIDE_POS_ERRS = False\n",
    "USE_MSE_IN_RENDERER = False\n",
    "\n",
    "feature_acts = acts[FEATURE_IDX]\n",
    "feature_acts = feature_acts/feature_acts.max()\n",
    "reg_weights, reg_bias, pred = pred_feature(feature_acts, feats_fn, doc_ids)\n",
    "print(reg_weights)\n",
    "\n",
    "mse_errs = (feature_acts-pred)**2\n",
    "abs_errs = (feature_acts-pred).abs()\n",
    "\n",
    "signed_errs = mse_errs*(feature_acts-pred).sign() if USE_MSE_IN_RENDERER else abs_errs*(feature_acts-pred).sign()\n",
    "doc_maxes = mse_errs.max(dim=-1).values\n",
    "err_docs = doc_maxes.topk(k=10).indices\n",
    "\n",
    "# sort docs by error\n",
    "if FIND_HOLES:\n",
    "    perm = signed_errs.min(dim=-1).values.clamp(max=0).abs().argsort(descending=False)[-MAX_DOCS_TO_PYSVELTE:]\n",
    "    signed_errs = signed_errs[perm]\n",
    "else:\n",
    "    perm = mse_errs.max(dim=-1).values.argsort(descending=False)[-MAX_DOCS_TO_PYSVELTE:]\n",
    "    signed_errs = signed_errs[perm]\n",
    "\n",
    "if HIDE_POS_ERRS:\n",
    "    signed_errs = signed_errs.clamp(max=0)\n",
    "\n",
    "\n",
    "mse = mse_errs.mean()\n",
    "print(f'mse: {mse:.2E}')\n",
    "abs_errs = abs_errs[perm]\n",
    "feature_doc_subset = docs[perm] \n",
    "# weights = feature_acts[perm]s\n",
    "\n",
    "# feature_docs\n",
    "component = pysvelte.WeightedDocs(tokens=feature_doc_subset.tolist(), weights=signed_errs.tolist(), per_doc_maxes=doc_maxes.tolist(), reversed=False)\n",
    "component.show()\n",
    "\n"
   ]
  }
 ],
 "metadata": {
  "kernelspec": {
   "display_name": "hi",
   "language": "python",
   "name": "python3"
  },
  "language_info": {
   "codemirror_mode": {
    "name": "ipython",
    "version": 3
   },
   "file_extension": ".py",
   "mimetype": "text/x-python",
   "name": "python",
   "nbconvert_exporter": "python",
   "pygments_lexer": "ipython3",
   "version": "3.11.5"
  }
 },
 "nbformat": 4,
 "nbformat_minor": 2
}
