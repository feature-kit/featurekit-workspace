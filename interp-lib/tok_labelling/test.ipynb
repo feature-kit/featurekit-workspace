{
 "cells": [
  {
   "cell_type": "code",
   "execution_count": 11,
   "metadata": {},
   "outputs": [
    {
     "data": {
      "text/plain": [
       "[{'name': 'log_adjectives',\n",
       "  'parameters': {'type': 'object',\n",
       "   'properties': {'identified_adjectives': {'type': 'array',\n",
       "     'description': 'These are words that can be interpeted as adjectives in the right context.',\n",
       "     'items': {'type': 'string'}}}},\n",
       "  'required': ['log_adjectives']}]"
      ]
     },
     "execution_count": 11,
     "metadata": {},
     "output_type": "execute_result"
    }
   ],
   "source": [
    "import os\n",
    "import openai\n",
    "from interp_utils import reload_module\n",
    "reload_module('noa_tools')\n",
    "from noa_tools import threaded_query, query\n",
    "from tokenizers import Tokenizer\n",
    "\n",
    "import torch\n",
    "from openai import OpenAI\n",
    "\n",
    "client = OpenAI()\n",
    "\n",
    "\n",
    "top_10k = torch.load('top_10k_indices.pt')\n",
    "tokenizer = Tokenizer.from_pretrained('roneneldan/TinyStories-33M')\n",
    "\n",
    "toks = [tokenizer.decode([tok_id]) for tok_id in top_10k]\n",
    "toks = list(set([tok.lower()[1:] for tok in toks if tok[0] == ' ']))\n",
    "\n",
    "\n",
    "template = '''Given the list of strings below, identify which strings match the following description:\n",
    "{description}\n",
    "To log the strings that match the description, call log_{title}. Copy strings exactly as they appear.\n",
    "\n",
    "Here is the list of strings for you to process: {batch}'''\n",
    "\n",
    "\n",
    "def format_nest(nest, **kwargs):\n",
    "    if isinstance(nest, list):\n",
    "        return [format_nest(item, **kwargs) for item in nest]\n",
    "    elif isinstance(nest, dict):\n",
    "        return {format_nest(k, **kwargs): format_nest(v, **kwargs) for k, v in nest.items()}\n",
    "    elif isinstance(nest, str):\n",
    "        return nest.format(**kwargs)\n",
    "# def new_tok_label(title, description, examples=[], ):\n",
    "\n",
    "functions = [\n",
    "    {\n",
    "    \"name\": \"log_{title}\",\n",
    "    # \"description\": \"\",\n",
    "    \"parameters\": {\n",
    "        \"type\": \"object\",\n",
    "        \"properties\": {\n",
    "            \"identified_{title}\": {\n",
    "                \"type\": \"array\",\n",
    "                \"description\": \"{description}\",\n",
    "                \"items\": {\n",
    "                    \"type\": \"string\",\n",
    "                }\n",
    "            },\n",
    "        },\n",
    "    },\n",
    "    \"required\": [\"log_{title}\"],\n",
    "    },\n",
    "]\n",
    "\n",
    "\n",
    "format_nest(functions, title='adjectives', description='These are words that can be interpeted as adjectives in the right context.')"
   ]
  }
 ],
 "metadata": {
  "kernelspec": {
   "display_name": "hi",
   "language": "python",
   "name": "python3"
  },
  "language_info": {
   "codemirror_mode": {
    "name": "ipython",
    "version": 3
   },
   "file_extension": ".py",
   "mimetype": "text/x-python",
   "name": "python",
   "nbconvert_exporter": "python",
   "pygments_lexer": "ipython3",
   "version": "3.11.5"
  }
 },
 "nbformat": 4,
 "nbformat_minor": 2
}
